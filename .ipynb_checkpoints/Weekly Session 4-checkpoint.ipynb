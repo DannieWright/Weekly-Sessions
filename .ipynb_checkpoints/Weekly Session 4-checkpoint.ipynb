{
 "cells": [
  {
   "cell_type": "markdown",
   "metadata": {},
   "source": [
    "# Weekly Session 4 - Integrals in Computational Physics\n",
    "\n",
    "### Goal\n",
    "To develop a basic familiarity and proficiency with numerical integration.\n",
    "\n",
    "### Readings\n",
    "This week, we will cover the most essential subsections on integration in Newman:\n",
    "\n",
    "    5.1 Fundamental methods for evaluating integrals\n",
    "\n",
    "    5.2 Errors on integrals\n",
    "\n",
    "    5.3 Choosing the number of steps\n",
    "\n",
    "    5.5 Higher-order integration methods\n",
    "\n",
    "    5.7 Choosing an integration method \n",
    "\n",
    "## Overview\n",
    "\n",
    "You will build up your own module named ```integration```, containing\n",
    "functions which implement the two basic numerical integration\n",
    "methods based on equally-spaced mesh points: \n",
    "the *trapezoidal rule* and *Simpson's rule*.  \n",
    "\n",
    "You will explore the accuracy of these routines numerically, try out\n",
    "error estimation, and see how they can serve as the basis for adaptive\n",
    "routines.\n",
    "\n",
    "For lab we will practice using them on interesting integrals in physics."
   ]
  },
  {
   "cell_type": "code",
   "execution_count": 11,
   "metadata": {},
   "outputs": [
    {
     "data": {
      "text/html": [
       "<style>\n",
       "div.warn {\n",
       "    background-color: black;\n",
       "    border-color: #dFb5b4;\n",
       "    border-left: 5px solid #dfb5b4;\n",
       "    padding: 0.5em\n",
       "    color: white;\n",
       "    }\n",
       " </style>\n",
       "\n",
       " <style>\n",
       " div.answer {\n",
       "     background-color: lightblue;\n",
       "     border-color: #dFb5b4;\n",
       "     border-left: 5px solid #dfb5b4;\n",
       "     padding: 0.5em\n",
       "     }\n",
       "  </style>\n"
      ],
      "text/plain": [
       "<IPython.core.display.HTML object>"
      ]
     },
     "execution_count": 11,
     "metadata": {},
     "output_type": "execute_result"
    }
   ],
   "source": [
    "#For colored cells, currently black cells, white text is added in Markdown\n",
    "#https://stackoverflow.com/questions/18024769/adding-custom-styled-paragraphs-in-markdown-cells\n",
    "from IPython.core.display import HTML\n",
    "def css_styling():\n",
    "    styles = open(\"style.css\", \"r\").read()\n",
    "    return HTML(styles)\n",
    "css_styling()"
   ]
  },
  {
   "cell_type": "markdown",
   "metadata": {},
   "source": [
    "<div class=answer>\n",
    "*This should be a blue cell with black font if you set the filepath correctly*</font>\n",
    "<div/>"
   ]
  },
  {
   "cell_type": "markdown",
   "metadata": {},
   "source": [
    "## Exercise 0: floating point numbers to single precision\n",
    "#### *A review on round-off error*\n",
    "\n",
    "Python automatically uses double precision of all floating point numbers.  While this is typically a good thing - the rounding errors are minimized this way - many other languages such as C and C++ have distinct types of floating point numbers - single precision (32 bytes) and double precision (64 bytes) - that use different amounts of memory.  For testing our numerical solutions of integrals, it will be useful to examine single precision floats (```np.float32()```) and compare them to double precision floats (python's default ```float()```, which can be specified with ```np.float64()```).  Here is a basic example comparing the default to the single precision float: "
   ]
  },
  {
   "cell_type": "code",
   "execution_count": 12,
   "metadata": {},
   "outputs": [
    {
     "name": "stdout",
     "output_type": "stream",
     "text": [
      "2.718281828459045\n",
      "2.71828\n"
     ]
    }
   ],
   "source": [
    "import numpy as np\n",
    "import matplotlib.pyplot as plt\n",
    "%matplotlib inline\n",
    "\n",
    "x = np.e              #numpy's value for Euler's number -e \n",
    "print(x)              #print e with 64 bits of memory, or 16 digits \n",
    "print(np.float32(x))  #print e with 32 bits of memory, or 5 digits"
   ]
  },
  {
   "cell_type": "markdown",
   "metadata": {},
   "source": [
    "Here is another example where I examine the round-off error with a complex number e^{i*pi}"
   ]
  },
  {
   "cell_type": "code",
   "execution_count": 13,
   "metadata": {},
   "outputs": [
    {
     "name": "stdout",
     "output_type": "stream",
     "text": [
      "The exact result for e^{i pi} =  -1.0\n",
      "The 32-byte floating point result is  (-1+9.54034461546e-08j)\n",
      "The 64-byte floating point result is  (-1+1.2246467991473532e-16j)\n",
      "The relative roundoff error for the float32 value is:  9.54034461546e-08\n",
      "The relative roundoff error for the float64 value is:  1.2246467991473532e-16\n"
     ]
    }
   ],
   "source": [
    "x = np.e                  #numpy's value for Euler's number -e \n",
    "y = complex(0.0,np.pi)    #a complex number y = i pi\n",
    "\n",
    "a_exact = -1.0\n",
    "a32 = np.float32(x)**(y) #note that only x is a 32 bit number, y is 64 bit\n",
    "a64 = x**y\n",
    "\n",
    "error32 = abs(a32-a_exact)  #divided by a_exact = 1\n",
    "error64 = abs(a64-a_exact)  #divided by a_exact = 1\n",
    "\n",
    "print(\"The exact result for e^{i pi} = \", a_exact)\n",
    "print(\"The 32-byte floating point result is \", a32)\n",
    "print(\"The 64-byte floating point result is \", a64)\n",
    "\n",
    "print(\"The relative roundoff error for the float32 value is: \",error32)\n",
    "print(\"The relative roundoff error for the float64 value is: \",error64)"
   ]
  },
  {
   "cell_type": "markdown",
   "metadata": {},
   "source": [
    "<div class=answer>\n",
    " __Write a code to examine the float32 and float64 values of the following function:\n",
    "$$\n",
    "f(x) = \\frac{1}{\\sqrt{x}}\n",
    "$$\n",
    "where $x~ =~ 1,~10^2,~10^4,~10^6$.  Compare the numerical values to the exact results as in the example above.__\n",
    "    \n",
    "Please use a loop to speed up your work!\n",
    "<div/>"
   ]
  },
  {
   "cell_type": "code",
   "execution_count": 14,
   "metadata": {},
   "outputs": [
    {
     "name": "stdout",
     "output_type": "stream",
     "text": [
      "The 32-byte floating point result for  0  is  1.0\n",
      "The 64-byte floating point result for  0  is  1.0\n",
      "The relative roundoff error for the float32 value is:  9.54034461546e-08\n",
      "The relative roundoff error for the float64 value is:  1.2246467991473532e-16\n",
      "The 32-byte floating point result for  1  is  0.1\n",
      "The 64-byte floating point result for  1  is  0.1\n",
      "The relative roundoff error for the float32 value is:  9.54034461546e-08\n",
      "The relative roundoff error for the float64 value is:  1.2246467991473532e-16\n",
      "The 32-byte floating point result for  2  is  0.01\n",
      "The 64-byte floating point result for  2  is  0.01\n",
      "The relative roundoff error for the float32 value is:  9.54034461546e-08\n",
      "The relative roundoff error for the float64 value is:  1.2246467991473532e-16\n",
      "The 32-byte floating point result for  3  is  0.001\n",
      "The 64-byte floating point result for  3  is  0.001\n",
      "The relative roundoff error for the float32 value is:  9.54034461546e-08\n",
      "The relative roundoff error for the float64 value is:  1.2246467991473532e-16\n"
     ]
    }
   ],
   "source": [
    "from math import sqrt\n",
    "x = [1, 10**2, 10**4, 10**6]\n",
    "exac = [1, 0.1, 0.01, 0.001]\n",
    "for i in range (len (x)):\n",
    "    fx64 = 1/sqrt(x[i])\n",
    "    fx32 = np.float32(1/sqrt(x[i]))\n",
    "    err64 = abs (fx64 - exac[i]) / exac[i] * 100\n",
    "    err32 = abs (fx32 - exac[i]) / exac[i] * 100\n",
    "    print(\"The 32-byte floating point result for \", i, \" is \", fx32)\n",
    "    print(\"The 64-byte floating point result for \", i, \" is \", fx64)\n",
    "    print(\"The relative roundoff error for the float32 value is: \",error32)\n",
    "    print(\"The relative roundoff error for the float64 value is: \",error64)"
   ]
  },
  {
   "cell_type": "markdown",
   "metadata": {},
   "source": [
    "## Exercise 1: General form of Integrals\n",
    "\n",
    "As Newman points out -- if you look ahead to Section 5.5 on page 163 --\n",
    "the trapezoidal rule and Simpson's rule both have the same general form\n",
    "\n",
    "$$\n",
    "\\int_a^bf(x)\\,dx \\approx \\sum_{k=0}^N w_k f(x_k),\n",
    "$$\n",
    "\n",
    "where the $x_k$ are equally spaced points, with \n",
    "$$\n",
    "x_k=a+k\\frac{(b-a)}{N}.\n",
    "$$\n",
    "\n",
    "The only difference is in the different choices for $w_k$.  These two\n",
    "methods are actually the first two special cases of the more general\n",
    "Newton-Cotes formulas, which is based on local polynomial approximations to the\n",
    "function: the linear approximation gives the trapezoidal rule, the quadratic\n",
    "approximation gives Simpson's rule, *etc.*  In fact, take a\n",
    "look at the nice table on page 164 to see this similarity.\n",
    "\n",
    "Actually, though, if you try to use Newman's (5.52) and the table of\n",
    "weights on page 164 to actually do a calculation, you will soon\n",
    "discover that there is a very important factor missing!  \n",
    "__ Compare (5.52) to the trapezoidal and Simpson's formulas.  What factor is missing? __ "
   ]
  },
  {
   "cell_type": "markdown",
   "metadata": {},
   "source": [
    "<div class=answer>\n",
    "Answer here\n",
    "<div/>\n",
    "the factor 'h' is missing."
   ]
  },
  {
   "cell_type": "markdown",
   "metadata": {},
   "source": [
    "### Test case\n",
    "\n",
    "For initial testing of our integration functions, we will use the integral\n",
    "\\begin{equation}\n",
    "\\label{eqn-int-exp}\n",
    "\\int_0^1 e^{-x}\\,dx.\n",
    "\\end{equation}\n",
    "The integrand varies smoothly, so this is an \"easy\" case.  Also, the\n",
    "result is known analytically, so we can easily check our answer's precision.\n",
    "\n",
    "__In fact, what *is* the correct answer, analytically?  And what is this as a floating point number, to as many places as you can write in double precision?__"
   ]
  },
  {
   "cell_type": "code",
   "execution_count": 15,
   "metadata": {},
   "outputs": [
    {
     "name": "stdout",
     "output_type": "stream",
     "text": [
      "0.632120558829\n"
     ]
    }
   ],
   "source": [
    "print (-np.exp (-1) + 1)"
   ]
  },
  {
   "cell_type": "markdown",
   "metadata": {},
   "source": [
    "## Basic integration of functions\n",
    "\n",
    "We are about to write two functions: one to evaluate a definite integral by\n",
    "the trapezoidal rule (```trapezoidal()```) and one to evaluate a\n",
    "definite integral by Simpson's rule (```simpson()```).\n",
    "You are welcome to reuse your code for Example 5.1, \n",
    "but now use a more general approach appropriate for calling a \n",
    "trapezoid integral later in the notebook.\n",
    "\n",
    "First you will need to design an \"interface\" \n",
    "-- *i.e.* select the input parameters and return value --\n",
    "for each of these functions.  Is there any difference between the interface for these\n",
    "two functions?\n",
    "\n",
    "__What will be your interface?__  see the hints/notes below.  \n",
    "\n",
    "For both of the functions we should have to enter a function, the number of steps, and the domain over which we are integrating the given function."
   ]
  },
  {
   "cell_type": "markdown",
   "metadata": {},
   "source": [
    "__Hint:__ Is there any constraint on the number of steps for the\n",
    "trapezoidal rule?  How about Simpson's rule?\n",
    "\n",
    "__Note:__\n",
    "For reasons of sanity, please make sure your function takes as a\n",
    "parameter the number of *steps* $N$ for the integration, not the\n",
    "number of *points* for the integration.  \n",
    "\n",
    "<div class=answer>\n",
    "The interfaces should be about the same since the only difference would be the $w_k$ value\n",
    "<div/>"
   ]
  },
  {
   "cell_type": "markdown",
   "metadata": {},
   "source": [
    "__ Now write these two functions, and test them out the benchmark integral given in the test integral__.\n",
    "\n",
    "__Hint:__ Newman break's Simpson's rule up into two sums in (5.9).  Ugly!\n",
    "Can you do this as one sum, calculating the correct weight $w_k$ for\n",
    "each term, like in (5.52), as discussed above?  Do you see\n",
    "any way you can use the\n",
    "```%``` operator to make your life simpler?  "
   ]
  },
  {
   "cell_type": "code",
   "execution_count": 16,
   "metadata": {
    "collapsed": true
   },
   "outputs": [],
   "source": [
    "def trapezoidal (func, numSteps, x1, x2):\n",
    "    h = (x2 - x1) / numSteps\n",
    "    sum = 0.5 * func (x1) + 0.5 * func (x2)\n",
    "    \n",
    "    for i in range (1, numSteps):\n",
    "        sum += func (x1 + i * h)\n",
    "    \n",
    "    return sum * h\n",
    "\n",
    "def simpson (func, numSteps, x1, x2):\n",
    "    h = (x2 - x1) / numSteps\n",
    "    sum = func (x1) + func (x2)\n",
    "    \n",
    "    for i in range (int (numSteps / 2)):\n",
    "        sum += 4 * func (x1 + (2 * i - 1) * h) #odd terms\n",
    "        sum += 2 * func (x1 + 2 * i * h) #even terms\n",
    "    return sum * h / 3"
   ]
  },
  {
   "cell_type": "code",
   "execution_count": 17,
   "metadata": {},
   "outputs": [
    {
     "name": "stdout",
     "output_type": "stream",
     "text": [
      "Trapezoidal: 0.6321258264911017\n",
      "Simspon's: 0.6473002052111698\n"
     ]
    }
   ],
   "source": [
    "import math\n",
    "\n",
    "def negExp (x):\n",
    "    return math.exp (-x)\n",
    "\n",
    "x1 = 0\n",
    "x2 = 1\n",
    "numSteps = 100\n",
    "\n",
    "print (\"Trapezoidal:\", trapezoidal (negExp, numSteps, x1, x2))\n",
    "print (\"Simspon's:\", simpson (negExp, numSteps, x1, x2))"
   ]
  },
  {
   "cell_type": "markdown",
   "metadata": {},
   "source": [
    "0.632120558829"
   ]
  },
  {
   "cell_type": "markdown",
   "metadata": {},
   "source": [
    "## Exercise 2: An interlude\n",
    "### Plotting log-log plots and the np.logspace() function\n",
    "\n",
    "In Exercise 3 you will make log-log plots to examine the error in your numerical solutions of integrals.  Log-log plots are a highly useful manner to examine non-linear trends in data.  Here is an example to practice working with them outside of the integration.  \n",
    "\n",
    "Note that ```pylab``` can plot on log-log axes automatically with the function ```pylab.loglog```.  See\n",
    "https://matplotlib.org/examples/pylab_examples/log_demo.html \n",
    "if you would like to explore more.\n",
    "\n",
    "Lets start by making a very sparse set of points for your $x$-axis, with integer exponents,\n",
    "like $10^1$, $10^2$, $10^3$, with the numpy array generating function ```logspace()``` (which is very similar to ```linspace()```)"
   ]
  },
  {
   "cell_type": "code",
   "execution_count": 18,
   "metadata": {},
   "outputs": [
    {
     "data": {
      "image/png": "[encoded data removed]",
      "text/plain": [
       "<matplotlib.figure.Figure at 0x80df710>"
      ]
     },
     "metadata": {},
     "output_type": "display_data"
    }
   ],
   "source": [
    "#source: https://docs.scipy.org/doc/numpy-1.10.0/reference/generated/numpy.logspace.html\n",
    "import numpy as np\n",
    "import pylab as plt\n",
    "%matplotlib inline\n",
    "\n",
    "N = 10\n",
    "x1 = np.logspace(1, 2, N, endpoint=True)    #where 1 means 10^1 and 2 means 10^2\n",
    "x2 = np.logspace(1, 2, N, endpoint=False)\n",
    "y = np.zeros(N)\n",
    "plt.plot(x1, y, 'o', label=\"endpoint=True\")\n",
    "plt.plot(x2, y + 0.5, 'o',label='endpoint=False')\n",
    "plt.ylim([-0.5, 1])\n",
    "plt.xlabel(\"x\")\n",
    "plt.ylabel(\"y\")\n",
    "plt.legend()\n",
    "plt.show()"
   ]
  },
  {
   "cell_type": "markdown",
   "metadata": {},
   "source": [
    "__ Play with the np.logspace() function below.  Make an array of ten integers that spans from 1-1000 and present your results on a plot similar to that above.  Next make an array of ten EVEN integers that spans from 1-1024 and add it to your plot__ \n",
    "\n",
    "__Hint:__ play with the optional argument ```base``` documented here:\n",
    "https://docs.scipy.org/doc/numpy-1.10.0/reference/generated/numpy.logspace.html\n",
    "\n",
    "and illustrated here:\n",
    "https://matplotlib.org/examples/pylab_examples/log_demo.html\n",
    "\n",
    "My array of even numbers were as follows, what is the base?\n",
    "[   2    4    8   16   32   64  128  256  512 1024]"
   ]
  },
  {
   "cell_type": "code",
   "execution_count": 19,
   "metadata": {},
   "outputs": [
    {
     "data": {
      "image/png": "[encoded data removed]",
      "text/plain": [
       "<matplotlib.figure.Figure at 0x8968518>"
      ]
     },
     "metadata": {},
     "output_type": "display_data"
    }
   ],
   "source": [
    "x3 = np.logspace(1, 3, 10, endpoint=True)\n",
    "x4 = np.logspace(1, 10, 10, endpoint=True, base = 2)\n",
    "\n",
    "plt.plot(x3, y, 'o', label=\"Base 10\")\n",
    "plt.plot(x4, y + 0.5, 'o',label='Base 2')\n",
    "plt.ylim([-0.5, 1])\n",
    "plt.xlabel(\"x\")\n",
    "plt.ylabel(\"y\")\n",
    "plt.legend()\n",
    "plt.show()"
   ]
  },
  {
   "cell_type": "markdown",
   "metadata": {},
   "source": [
    "### LogLog plots\n",
    "Now lets make some interesting y-data, plot $y ~vs.~ x$, and compare the results for a linear-linear, log-linear, and log-log plot.  I have provided a full example below.  Use this as an example to do the plot in Exercise 3 when you get there. \n",
    "*Don't miss the question that follows the plots!*"
   ]
  },
  {
   "cell_type": "code",
   "execution_count": 20,
   "metadata": {},
   "outputs": [
    {
     "data": {
      "image/png": "[encoded data removed]",
      "text/plain": [
       "<matplotlib.figure.Figure at 0x8698550>"
      ]
     },
     "metadata": {},
     "output_type": "display_data"
    }
   ],
   "source": [
    "# log x and y axis\n",
    "# Example of log style plots\n",
    "# source: https://matplotlib.org/examples/pylab_examples/log_demo.html\n",
    "\n",
    "fig=plt.figure(figsize=(18, 16), dpi= 80, facecolor='w', edgecolor='k')\n",
    "\n",
    "N = 10\n",
    "x1 = np.logspace(1, 2, N, endpoint=False)\n",
    "y1 = 2**x1 \n",
    "\n",
    "# log y axis\n",
    "plt.subplot(221)\n",
    "plt.plot(x1, y1,'o-')\n",
    "plt.title('linear-linear plot')\n",
    "plt.grid(True)\n",
    "plt.xlabel(\"x\")\n",
    "plt.ylabel(\"y\")\n",
    "\n",
    "# log y axis\n",
    "plt.subplot(222)\n",
    "plt.semilogy(x1, y1,'o-')\n",
    "plt.title('semilogy')\n",
    "plt.grid(True)\n",
    "plt.xlabel(\"x\")\n",
    "plt.ylabel(\"y\")\n",
    "             \n",
    "# log x axis\n",
    "plt.subplot(223)\n",
    "plt.semilogx(x1, y1,'o-')\n",
    "plt.title('semilogx')\n",
    "plt.grid(True)\n",
    "plt.xlabel(\"x\")\n",
    "plt.ylabel(\"y\")\n",
    "             \n",
    "# log x and y axis\n",
    "plt.subplot(224)\n",
    "plt.loglog(x1, y1,'o-')\n",
    "plt.grid(True)\n",
    "plt.title('loglog')\n",
    "plt.xlabel(\"x\")\n",
    "plt.ylabel(\"y\")\n",
    "\n",
    "plt.show()"
   ]
  },
  {
   "cell_type": "markdown",
   "metadata": {},
   "source": [
    "<div class=answer>\n",
    " __ Now that you've seen the example, why do you think log-log plots are so useful?  Can you think of another example in your physics (or math, CS, etc) background where log-log plots were useful?  Discuss with your partner and explain. __\n",
    "<div/>\n",
    "\n",
    "Log-log plots are useful because they present the data on a scale that shows both the small values and the large values, and for some functions, they produce a linear fit, which makes it easier to calculate a fit for the data. It has beed useful in prior physics classes to plot data using a logerithmic scale on the y-axis, so that we could easily see how the two variables correlated."
   ]
  },
  {
   "cell_type": "markdown",
   "metadata": {},
   "source": [
    "## Exercise 3\n",
    "### Algorithmic and roundoff error \n",
    "\n",
    "Make a log-log plot of the __error__ in the calculation of the benchmark\n",
    "integral *vs.* the number of steps, for both the trapezoidal rule and\n",
    "Simpson's rule.  \n",
    "Here the benchmark integral is the numerical algorithm which you may compare to the exact result.\n",
    "\n",
    "The goal is to see if the behavior of the errors follows the pattern\n",
    "we expect from Newman's discussion.  That is, we expect\n",
    "*approximation error* (or *algorithmic error*) to dominate\n",
    "for small $N$, and *roundoff error* to dominate for large $N$.  \n",
    "\n",
    "\n",
    "For the trapezoidal rule, it will be very hard for you to reach the regime\n",
    "in which roundoff error dominates, since the algorithmic error is just\n",
    "so overwhelmingly bad, and double precision arithmetic is just so\n",
    "wonderfully good.  Thus, for us to have a chance to see the onset of\n",
    "roundoff error more easily, it would be nice if your functions could also work in single precision.\n",
    "Modify your functions so that they take an\n",
    "*optional* argument ```float_type=np.float32``` \n",
    "and convert each term in the sum to this float type before adding it to the sum. \n",
    "\n",
    "__Hint:__  Make log-log plots showing the errors for the two methods\n",
    "*vs.* number of steps (so ```simpson()``` and ```trapezoid()``` are on the same panel), in \n",
    "both single and double precision (do a separate panel for float32/single and float64/doubles).  \n",
    "*Use the results from Exercises 0 and 2.*\n",
    "\n",
    "\n",
    "__Hint:__ Chose a set of closely-spaced points for your $x$-axis ($N$-values).  My base-2 even integers from Exercise 2 are a great starting point.\n",
    "\n",
    "Of course, in the end, you need to pick integer values for the number of steps.  But that's what\n",
    "rounding is for, isn't it?  You might need to use some arithmetic creativity to\n",
    "make sure the number of points is even for Simpson's rule.  There isn't a right way to achieve this, you can do it by hand or with some simple math tricks.\n",
    "\n",
    "__Enter your code in the cells below (add more if you like).  Make log-log plots showing the errors for the two methods *vs.* number of steps (overlaid on top of each other), in both single and double precision.  As always label your plots well.__"
   ]
  },
  {
   "cell_type": "code",
   "execution_count": 60,
   "metadata": {},
   "outputs": [
    {
     "data": {
      "image/png": "[encoded data removed]",
      "text/plain": [
       "<matplotlib.figure.Figure at 0x9911860>"
      ]
     },
     "metadata": {},
     "output_type": "display_data"
    },
    {
     "data": {
      "image/png": "[encoded data removed]",
      "text/plain": [
       "<matplotlib.figure.Figure at 0x980a400>"
      ]
     },
     "metadata": {},
     "output_type": "display_data"
    }
   ],
   "source": [
    "import integrate\n",
    "import math\n",
    "import numpy as np\n",
    "import pylab as plt\n",
    "%matplotlib inline\n",
    "\n",
    "def percentError (acceptedValue, actualValue):\n",
    "    return abs (acceptedValue - actualValue) / acceptedValue * 100\n",
    "\n",
    "acceptedValue = -np.exp (-1) + 1\n",
    "maxNumSteps = 20\n",
    "yValuesTrapezoidal = []\n",
    "yValuesSimpsons = []\n",
    "NValues = np.logspace (1, maxNumSteps, maxNumSteps, dtype = int, endpoint = True, base = 2)\n",
    "\n",
    "\n",
    "x1 = 0\n",
    "x2 = 1\n",
    "\n",
    "for N in NValues:\n",
    "    acceptedValue = -np.exp (-1) + 1\n",
    "    \n",
    "    #calculate the Trapezoidal approximation error\n",
    "    integralValue, integralXValues, integrandValues = integrate.integrate (negExp, (x1, x2), N, order = 1, \\\n",
    "                                                                           float_type = np.float32)\n",
    "    yValuesTrapezoidal.append(percentError (acceptedValue, integralValue))\n",
    "    \n",
    "    #calculate the Simpson's approximation error\n",
    "    integralValue, integralXValues, integrandValues = integrate.integrate (negExp, (x1, x2), N, order = 2, \\\n",
    "                                                                           float_type = np.float32)\n",
    "    yValuesSimpsons.append(percentError (acceptedValue, integralValue))\n",
    "\n",
    "\n",
    "\n",
    "plt.loglog(NValues, yValuesTrapezoidal, 'o', label=\"Trapezoidal Approximation Error\")\n",
    "plt.loglog(NValues, yValuesSimpsons, 'o',label=\"Simpson's Approximation Error\")\n",
    "#plt.ylim([NValues[0], NValues[maxNumSteps - 1]])\n",
    "plt.xlabel(\"Number of Steps\")\n",
    "plt.ylabel(\"Percent Error\")\n",
    "plt.title (r\"Simpson's and Trapezoidal Percent Error for $\\int^1_0 e^{-x^2} \\ dx$ (single float precision)\")\n",
    "plt.legend()\n",
    "plt.show()\n",
    "\n",
    "yValuesTrapezoidal = []\n",
    "yValuesSimpsons = []\n",
    "for N in NValues:\n",
    "    acceptedValue = -np.exp (-1) + 1\n",
    "    \n",
    "    #calculate the Trapezoidal approximation error\n",
    "    integralValue, integralXValues, integrandValues = integrate.integrate (negExp, (x1, x2), N, order = 1, \\\n",
    "                                                                           float_type = np.float64)\n",
    "    yValuesTrapezoidal.append(percentError (acceptedValue, integralValue))\n",
    "    \n",
    "    #calculate the Simpson's approximation error\n",
    "    integralValue, integralXValues, integrandValues = integrate.integrate (negExp, (x1, x2), N, order = 2, \\\n",
    "                                                                           float_type = np.float64)\n",
    "    yValuesSimpsons.append(percentError (acceptedValue, integralValue))\n",
    "\n",
    "\n",
    "\n",
    "plt.loglog(NValues, yValuesTrapezoidal, 'o', label=\"Trapezoidal Approximation Error\")\n",
    "plt.loglog(NValues, yValuesSimpsons, 'o',label=\"Simpson's Approximation Error\")\n",
    "plt.xlabel(\"Number of Steps\")\n",
    "plt.ylabel(\"Percent Error\")\n",
    "plt.title (r\"Simpson's and Trapezoidal Percent Error for $\\int^1_0 e^{-x^2} \\ dx$ (double float precision)\")\n",
    "plt.legend()\n",
    "plt.show()\n"
   ]
  },
  {
   "cell_type": "markdown",
   "metadata": {},
   "source": [
    "<div class=answer>\n",
    "__ For each method, identify the region in which algorithmic error dominates and the region in which roundoff error dominates.  For the algorithmic error, try to read the exponent off from the slope of the plot and compare with the expected value from Newman's analysis.  Where do you expect the \"crossover\" between these regions to occur\n",
    "from Newman's estimates, given single or double precision?  Is this consistent with what you observe?__\n",
    "<div/>\n",
    "\n",
    "For single point precision the Simpson's method is dominated by algorithmic error up to a little past 10 steps, at which point there is mostly roundoff error. The trapezoidal approximation makes it to around $10^3$ before roundoff error becomes the dominate source of error.\n",
    "For double point precision the Simpson's method makes it to just after $10^3$ steps before it is dominated by roundoff error, while the trapezoidal makes it past $10^6$ number of steps.\n",
    "\n",
    "The cross over for these occurs when the number of decimal places the approximation can determine surpasses the number of decimal places that can be stored. These values occur fairly close to my observations.\n"
   ]
  },
  {
   "cell_type": "markdown",
   "metadata": {},
   "source": [
    "## Exercise 4:\n",
    "### Error estimation \n",
    "\n",
    "In Section 5.2.1, Newman describes the practical method for estimating the error in a trapezoidal rule or Simpson's rule calculation.  Try these error estimates out for the trapezoidal rule, with $20$ steps\n",
    "and $200$ steps.  __How close are the estimates to the actual errors?__  What about the sign (this will matter when we get to \n",
    "Romberg integration)? Repeat for Simpson's rule.\n"
   ]
  },
  {
   "cell_type": "code",
   "execution_count": 58,
   "metadata": {},
   "outputs": [
    {
     "name": "stdout",
     "output_type": "stream",
     "text": [
      "Trapezoidal N = 20\n",
      "Euler-Maclaurin: 0.000153283100488101\n",
      "Actual: -0.000131686296258\n",
      "\n",
      "Trapezoidal N = 200\n",
      "Euler-Maclaurin: 1.5328310048810098e-06\n",
      "Actual: -1.31691728245e-06\n",
      "\n",
      "Simpson N = 20\n",
      "Euler-Maclaurin: -1.0218873365873402e-07\n",
      "Actual: -2.19420999148e-08\n",
      "\n",
      "Simpson N = 200\n",
      "Euler-Maclaurin: -1.02188733658734e-11\n",
      "Actual: -2.19468887508e-12\n",
      "\n"
     ]
    }
   ],
   "source": [
    "import math\n",
    "\n",
    "a = 0\n",
    "b = 1\n",
    "\n",
    "def negExpDerivFirst (xValue):\n",
    "    return -2 * xValue * negExp (xValue)\n",
    "\n",
    "def negExpDerivThird (xValue):\n",
    "    return -(8 * xValue**3 - 12 * xValue) * negExp (xValue)\n",
    "\n",
    "def unsignedError (acceptedValue, actualValue):\n",
    "    return acceptedValue - actualValue\n",
    "\n",
    "acceptedValue = -np.exp (-1) + 1\n",
    "\n",
    "#trapezoidal Euler-Maclaurin formula\n",
    "N = 20\n",
    "h = (a - b) / N\n",
    "\n",
    "trapEps = 1 / 12 * h**2 * (negExpDerivFirst (a) - negExpDerivFirst (b))\n",
    "integralValue, integralXValues, integrandValues = integrate.integrate (negExp, (a, b), N, order = 1, \\\n",
    "                                                                       float_type = np.float64)\n",
    "trapEpsActual = unsignedError (acceptedValue, integralValue) \n",
    "print (\"Trapezoidal N =\", N)\n",
    "print (\"Euler-Maclaurin:\", trapEps)\n",
    "print (\"Actual:\", trapEpsActual)\n",
    "print ()\n",
    "\n",
    "N = 200\n",
    "h = (a - b) / N\n",
    "\n",
    "trapEps = 1 / 12 * h**2 * (negExpDerivFirst (a) - negExpDerivFirst (b))\n",
    "integralValue, integralXValues, integrandValues = integrate.integrate (negExp, (a, b), N, order = 1, \\\n",
    "                                                                       float_type = np.float64)\n",
    "trapEpsActual = unsignedError (acceptedValue, integralValue) \n",
    "print (\"Trapezoidal N =\", N)\n",
    "print (\"Euler-Maclaurin:\", trapEps)\n",
    "print (\"Actual:\", trapEpsActual)\n",
    "print ()\n",
    "\n",
    "#simpson Euler-Maclaurin formula\n",
    "N = 20\n",
    "h = (a - b) / N\n",
    "\n",
    "simpEps = 1 / 90 * (h**4) * (negExpDerivThird (a) - negExpDerivThird (b))\n",
    "integralValue, integralXValues, integrandValues = integrate.integrate (negExp, (a, b), N, order = 2, \\\n",
    "                                                                       float_type = np.float64)\n",
    "simpEpsActual = unsignedError (acceptedValue, integralValue)\n",
    "print (\"Simpson N =\", N)\n",
    "print (\"Euler-Maclaurin:\", simpEps)\n",
    "print (\"Actual:\", simpEpsActual)\n",
    "print ()\n",
    "\n",
    "N = 200\n",
    "h = (a - b) / N\n",
    "\n",
    "simpEps = 1 / 90 * (h**4) * (negExpDerivThird (a) - negExpDerivThird (b))\n",
    "integralValue, integralXValues, integrandValues = integrate.integrate (negExp, (a, b), N, order = 2, \\\n",
    "                                                                       float_type = np.float64)\n",
    "simpEpsActual = unsignedError (acceptedValue, integralValue)\n",
    "print (\"Simpson N =\", N)\n",
    "print (\"Euler-Maclaurin:\", simpEps)\n",
    "print (\"Actual:\", simpEpsActual)\n",
    "print ()"
   ]
  },
  {
   "cell_type": "markdown",
   "metadata": {},
   "source": [
    "<div class=answer>\n",
    "<div/>\n",
    "The estimates are rather close to the actual error values. The Euler-Maclaurin error value estimates a larger difference than the actual value, although not by too much. The actual trapezoidal errors are of a different sign than the Euler-Maclaurin errors, while the two errors are of the same sign for the Simpson's method."
   ]
  },
  {
   "cell_type": "markdown",
   "metadata": {},
   "source": [
    "## Exercise 5: \n",
    "### Programming technique: Generalizing a function\n",
    "\n",
    "If you are thinking like a computer scientist, you are probably just\n",
    "starting to get a little irked by now.  \n",
    "\n",
    "You just did a bit of cutting and pasting, didn't you?  You started\n",
    "from the function ```trapezoidal()``` and adapted it to write the function ```simpson()```, right?  \n",
    "These functions both share the same interface, and the code for each of them is nearly the\n",
    "same, *i.e.*, they both compute a sum\n",
    "$$\n",
    "\\sum_{k=0}^N w_k f(x_k),\n",
    "$$\n",
    "with the same values of $x_k$, but just some slight differences in the\n",
    "values you use for the coefficients $w_k$.  \n",
    "\n",
    "Then, when you needed to make an addition to these functions (adding\n",
    "the parameter ```float_type```, you had to go back and make the \n",
    "*exact same modifications* to your code *twice*, once in each the functions.   \n",
    "\n",
    "Wasn't that annoying?  More precisely, wasn't that a waste of effort?\n",
    "And doesn't this duplication serve as a big deterrent against your making other such\n",
    "modifications and improvements in the future?  Imagine if you had gone even further, and written\n",
    "separate functions for each of the higher-order Newton-Cotes integration rules\n",
    "(Newman Section 5.5)?  Then you would have had to go back and modify all four functions!\n",
    "\n",
    "A much more farsighted approach would be to *generalize* your\n",
    "original *trapezoidal* function, instead of\n",
    "simply *cutting and pasting* it to make new functions.\n",
    "\n",
    "#### It's still not too late!\n",
    "\n",
    "Even if your first attempt is based on cutting and pasting, you can\n",
    "later recognize the similarity of\n",
    "different functions and merge them back together into one function.\n",
    "When you *recognize redundancy*, you *go back and destroy it*.  A little effort\n",
    "doing this now saves you from much greater duplicated effort testing, debugging,\n",
    "and maintaining redundant code in the future.  \n",
    "(Plus it is so rewarding if you are a neatness freak...)\n",
    "\n",
    "You will often notice that the functions you find in libraries \n",
    "(like ```numpy``` or ```matplotlib```) bundle several related algorithms\n",
    "into one function, and the user chooses the particular algorithm \n",
    "through a ```mode``` parameter.  So, following this model, let us replace your separate integration\n",
    "functions with one combined function ```integrate```.  \n",
    "This function should take an optional parameter ```order=1```,\n",
    "which controls whether to use the weights $w_i$\n",
    "appropriate to the trapezoidal rule\n",
    "(first order) or Simpson's rule (second order).  While you are at it,\n",
    "make your function capable of cubic and quartic integration as\n",
    "well (see the table in Newman Section~5.5).\n",
    "\n",
    "__Hint:__   Can you see any way to make use of the following definitions\n",
    "```python\n",
    "endpoint_weights = [1/2,1/3,3/8,14/45]\n",
    "interior_weights = [\n",
    "    [1],\n",
    "    [2/3,4/3],\n",
    "    [3/4,9/8,9/8],\n",
    "    [28/45,64/45,8/15,64/45]\n",
    "    ]\n",
    "```\n",
    "to make your formula for $w_k$ in the code very simple?\n",
    "\n",
    "\n",
    "__Go back and add the fourth-order Newton-Cotes method to your log-log error plots. Note that you need steps that are a multiple of 4 for this method.__"
   ]
  },
  {
   "cell_type": "code",
   "execution_count": null,
   "metadata": {
    "collapsed": true
   },
   "outputs": [],
   "source": []
  }
 ],
 "metadata": {
  "kernelspec": {
   "display_name": "Python 3",
   "language": "python",
   "name": "python3"
  },
  "language_info": {
   "codemirror_mode": {
    "name": "ipython",
    "version": 3
   },
   "file_extension": ".py",
   "mimetype": "text/x-python",
   "name": "python",
   "nbconvert_exporter": "python",
   "pygments_lexer": "ipython3",
   "version": "3.6.3"
  }
 },
 "nbformat": 4,
 "nbformat_minor": 2
}
